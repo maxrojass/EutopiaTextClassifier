{
 "cells": [
  {
   "cell_type": "code",
   "execution_count": 61,
   "metadata": {},
   "outputs": [],
   "source": [
    "#Libraries\n",
    "import pandas as pd\n",
    "import numpy as np\n",
    "import matplotlib.pyplot as plt\n",
    "import seaborn as sns\n",
    "import gensim\n",
    "import spacy\n",
    "import nltk\n",
    "import re\n",
    "from nltk.stem import WordNetLemmatizer\n",
    "from nltk.stem.snowball import SnowballStemmer\n",
    "from nltk import word_tokenize\n",
    "from nltk.tokenize import ToktokTokenizer\n",
    "from numpy import random\n",
    "from sklearn.model_selection import train_test_split\n",
    "from sklearn.feature_extraction.text import TfidfVectorizer\n",
    "from sklearn.svm import LinearSVC\n",
    "from sklearn import metrics \n",
    "from sklearn.metrics import confusion_matrix,classification_report\n",
    "from gensim.models import Doc2Vec\n",
    "from gensim.models.doc2vec import TaggedDocument\n",
    "from sklearn.model_selection import train_test_split\n",
    "\n",
    "import multiprocessing"
   ]
  },
  {
   "cell_type": "code",
   "execution_count": 62,
   "metadata": {},
   "outputs": [
    {
     "data": {
      "text/html": [
       "<div>\n",
       "<style scoped>\n",
       "    .dataframe tbody tr th:only-of-type {\n",
       "        vertical-align: middle;\n",
       "    }\n",
       "\n",
       "    .dataframe tbody tr th {\n",
       "        vertical-align: top;\n",
       "    }\n",
       "\n",
       "    .dataframe thead th {\n",
       "        text-align: right;\n",
       "    }\n",
       "</style>\n",
       "<table border=\"1\" class=\"dataframe\">\n",
       "  <thead>\n",
       "    <tr style=\"text-align: right;\">\n",
       "      <th></th>\n",
       "      <th>crunchbase_ID</th>\n",
       "      <th>home_text</th>\n",
       "      <th>aboutus_text</th>\n",
       "      <th>overview_text</th>\n",
       "      <th>whatwedo_text</th>\n",
       "      <th>company_text</th>\n",
       "      <th>whoweare_text</th>\n",
       "      <th>AI</th>\n",
       "    </tr>\n",
       "  </thead>\n",
       "  <tbody>\n",
       "    <tr>\n",
       "      <td>0</td>\n",
       "      <td>1916</td>\n",
       "      <td>Skip to main content Products GPU accelerated ...</td>\n",
       "      <td>NaN</td>\n",
       "      <td>NaN</td>\n",
       "      <td>NaN</td>\n",
       "      <td>NaN</td>\n",
       "      <td>NaN</td>\n",
       "      <td>1</td>\n",
       "    </tr>\n",
       "    <tr>\n",
       "      <td>1</td>\n",
       "      <td>1917</td>\n",
       "      <td>Our AIs Research Company Careers Get in Touch ...</td>\n",
       "      <td>NaN</td>\n",
       "      <td>NaN</td>\n",
       "      <td>NaN</td>\n",
       "      <td>Our AIs Research Company Careers Get in Touch ...</td>\n",
       "      <td>NaN</td>\n",
       "      <td>1</td>\n",
       "    </tr>\n",
       "    <tr>\n",
       "      <td>2</td>\n",
       "      <td>1918</td>\n",
       "      <td>Toggle navigation Product Projects Company His...</td>\n",
       "      <td>NaN</td>\n",
       "      <td>NaN</td>\n",
       "      <td>NaN</td>\n",
       "      <td>NaN</td>\n",
       "      <td>NaN</td>\n",
       "      <td>1</td>\n",
       "    </tr>\n",
       "    <tr>\n",
       "      <td>3</td>\n",
       "      <td>1919</td>\n",
       "      <td>Brainpeek Solutions Create a seamless online u...</td>\n",
       "      <td>Brainpeek Solutions Create a seamless online u...</td>\n",
       "      <td>NaN</td>\n",
       "      <td>NaN</td>\n",
       "      <td>NaN</td>\n",
       "      <td>NaN</td>\n",
       "      <td>1</td>\n",
       "    </tr>\n",
       "    <tr>\n",
       "      <td>4</td>\n",
       "      <td>1920</td>\n",
       "      <td>The Tool Our Languages Services Extract Produc...</td>\n",
       "      <td>The Tool Our Languages Services Extract Produc...</td>\n",
       "      <td>NaN</td>\n",
       "      <td>NaN</td>\n",
       "      <td>NaN</td>\n",
       "      <td>NaN</td>\n",
       "      <td>1</td>\n",
       "    </tr>\n",
       "    <tr>\n",
       "      <td>...</td>\n",
       "      <td>...</td>\n",
       "      <td>...</td>\n",
       "      <td>...</td>\n",
       "      <td>...</td>\n",
       "      <td>...</td>\n",
       "      <td>...</td>\n",
       "      <td>...</td>\n",
       "      <td>...</td>\n",
       "    </tr>\n",
       "    <tr>\n",
       "      <td>4889</td>\n",
       "      <td>2735</td>\n",
       "      <td>Username or Email L senord Remember me Norsk S...</td>\n",
       "      <td>Username or Email L senord Remember me Norsk S...</td>\n",
       "      <td>NaN</td>\n",
       "      <td>NaN</td>\n",
       "      <td>NaN</td>\n",
       "      <td>NaN</td>\n",
       "      <td>0</td>\n",
       "    </tr>\n",
       "    <tr>\n",
       "      <td>4890</td>\n",
       "      <td>5944</td>\n",
       "      <td>Solutions Solution for distributors Covered re...</td>\n",
       "      <td>NaN</td>\n",
       "      <td>NaN</td>\n",
       "      <td>NaN</td>\n",
       "      <td>NaN</td>\n",
       "      <td>NaN</td>\n",
       "      <td>0</td>\n",
       "    </tr>\n",
       "    <tr>\n",
       "      <td>4891</td>\n",
       "      <td>5251</td>\n",
       "      <td>BROWSE PRODUCTS Variety Cases Pasta Mac and Ch...</td>\n",
       "      <td>NaN</td>\n",
       "      <td>NaN</td>\n",
       "      <td>NaN</td>\n",
       "      <td>NaN</td>\n",
       "      <td>NaN</td>\n",
       "      <td>0</td>\n",
       "    </tr>\n",
       "    <tr>\n",
       "      <td>4892</td>\n",
       "      <td>4225</td>\n",
       "      <td>Pricing Documentation Community Changelog Logi...</td>\n",
       "      <td>NaN</td>\n",
       "      <td>NaN</td>\n",
       "      <td>NaN</td>\n",
       "      <td>NaN</td>\n",
       "      <td>NaN</td>\n",
       "      <td>0</td>\n",
       "    </tr>\n",
       "    <tr>\n",
       "      <td>4893</td>\n",
       "      <td>4779</td>\n",
       "      <td>FAQ Jobs Blog Contact FAQ Jobs Blog Contact Sc...</td>\n",
       "      <td>NaN</td>\n",
       "      <td>NaN</td>\n",
       "      <td>NaN</td>\n",
       "      <td>NaN</td>\n",
       "      <td>NaN</td>\n",
       "      <td>0</td>\n",
       "    </tr>\n",
       "  </tbody>\n",
       "</table>\n",
       "<p>4894 rows × 8 columns</p>\n",
       "</div>"
      ],
      "text/plain": [
       "     crunchbase_ID                                          home_text  \\\n",
       "0             1916  Skip to main content Products GPU accelerated ...   \n",
       "1             1917  Our AIs Research Company Careers Get in Touch ...   \n",
       "2             1918  Toggle navigation Product Projects Company His...   \n",
       "3             1919  Brainpeek Solutions Create a seamless online u...   \n",
       "4             1920  The Tool Our Languages Services Extract Produc...   \n",
       "...            ...                                                ...   \n",
       "4889          2735  Username or Email L senord Remember me Norsk S...   \n",
       "4890          5944  Solutions Solution for distributors Covered re...   \n",
       "4891          5251  BROWSE PRODUCTS Variety Cases Pasta Mac and Ch...   \n",
       "4892          4225  Pricing Documentation Community Changelog Logi...   \n",
       "4893          4779  FAQ Jobs Blog Contact FAQ Jobs Blog Contact Sc...   \n",
       "\n",
       "                                           aboutus_text overview_text  \\\n",
       "0                                                   NaN           NaN   \n",
       "1                                                   NaN           NaN   \n",
       "2                                                   NaN           NaN   \n",
       "3     Brainpeek Solutions Create a seamless online u...           NaN   \n",
       "4     The Tool Our Languages Services Extract Produc...           NaN   \n",
       "...                                                 ...           ...   \n",
       "4889  Username or Email L senord Remember me Norsk S...           NaN   \n",
       "4890                                                NaN           NaN   \n",
       "4891                                                NaN           NaN   \n",
       "4892                                                NaN           NaN   \n",
       "4893                                                NaN           NaN   \n",
       "\n",
       "     whatwedo_text                                       company_text  \\\n",
       "0              NaN                                                NaN   \n",
       "1              NaN  Our AIs Research Company Careers Get in Touch ...   \n",
       "2              NaN                                                NaN   \n",
       "3              NaN                                                NaN   \n",
       "4              NaN                                                NaN   \n",
       "...            ...                                                ...   \n",
       "4889           NaN                                                NaN   \n",
       "4890           NaN                                                NaN   \n",
       "4891           NaN                                                NaN   \n",
       "4892           NaN                                                NaN   \n",
       "4893           NaN                                                NaN   \n",
       "\n",
       "     whoweare_text  AI  \n",
       "0              NaN   1  \n",
       "1              NaN   1  \n",
       "2              NaN   1  \n",
       "3              NaN   1  \n",
       "4              NaN   1  \n",
       "...            ...  ..  \n",
       "4889           NaN   0  \n",
       "4890           NaN   0  \n",
       "4891           NaN   0  \n",
       "4892           NaN   0  \n",
       "4893           NaN   0  \n",
       "\n",
       "[4894 rows x 8 columns]"
      ]
     },
     "execution_count": 62,
     "metadata": {},
     "output_type": "execute_result"
    }
   ],
   "source": [
    "#Loading the Dataset using pandas\n",
    "df = pd.read_pickle('warehouse.pickle')\n",
    "#df = df[pd.notnull(df['aboutus_text'])]\n",
    "df"
   ]
  },
  {
   "cell_type": "code",
   "execution_count": 63,
   "metadata": {},
   "outputs": [
    {
     "name": "stdout",
     "output_type": "stream",
     "text": [
      "<class 'pandas.core.frame.DataFrame'>\n",
      "RangeIndex: 4894 entries, 0 to 4893\n",
      "Data columns (total 8 columns):\n",
      "crunchbase_ID    4894 non-null object\n",
      "home_text        4894 non-null object\n",
      "aboutus_text     2212 non-null object\n",
      "overview_text    66 non-null object\n",
      "whatwedo_text    50 non-null object\n",
      "company_text     477 non-null object\n",
      "whoweare_text    83 non-null object\n",
      "AI               4894 non-null int64\n",
      "dtypes: int64(1), object(7)\n",
      "memory usage: 306.0+ KB\n"
     ]
    }
   ],
   "source": [
    "#Analysing type of data of df\n",
    "df.info()"
   ]
  },
  {
   "cell_type": "code",
   "execution_count": 64,
   "metadata": {},
   "outputs": [
    {
     "name": "stdout",
     "output_type": "stream",
     "text": [
      "Number of Nan in home_text:  0\n",
      "Number of Nan in aboutus_text:  2682\n",
      "Number of Nan in whatwedo_text:  4844\n",
      "Number of Nan in company_text:  4417\n",
      "Number of Nan in whoweare_text:  4811\n"
     ]
    }
   ],
   "source": [
    "#Counting NaN per column\n",
    "home_NaN = df['home_text'].isna().sum()\n",
    "print('Number of Nan in home_text: ', home_NaN)\n",
    "aboutus_NaN = df['aboutus_text'].isna().sum()\n",
    "print('Number of Nan in aboutus_text: ', aboutus_NaN)\n",
    "whatwedo_NaN = df['whatwedo_text'].isna().sum()\n",
    "print('Number of Nan in whatwedo_text: ', whatwedo_NaN)\n",
    "company_NaN = df['company_text'].isna().sum()\n",
    "print('Number of Nan in company_text: ', company_NaN)\n",
    "whoweare_NaN = df['whoweare_text'].isna().sum()\n",
    "print('Number of Nan in whoweare_text: ', whoweare_NaN)\n"
   ]
  },
  {
   "cell_type": "code",
   "execution_count": 65,
   "metadata": {},
   "outputs": [
    {
     "data": {
      "text/html": [
       "<div>\n",
       "<style scoped>\n",
       "    .dataframe tbody tr th:only-of-type {\n",
       "        vertical-align: middle;\n",
       "    }\n",
       "\n",
       "    .dataframe tbody tr th {\n",
       "        vertical-align: top;\n",
       "    }\n",
       "\n",
       "    .dataframe thead th {\n",
       "        text-align: right;\n",
       "    }\n",
       "</style>\n",
       "<table border=\"1\" class=\"dataframe\">\n",
       "  <thead>\n",
       "    <tr style=\"text-align: right;\">\n",
       "      <th></th>\n",
       "      <th>home_text</th>\n",
       "      <th>AI</th>\n",
       "    </tr>\n",
       "  </thead>\n",
       "  <tbody>\n",
       "    <tr>\n",
       "      <td>0</td>\n",
       "      <td>Skip to main content Products GPU accelerated ...</td>\n",
       "      <td>1</td>\n",
       "    </tr>\n",
       "    <tr>\n",
       "      <td>1</td>\n",
       "      <td>Our AIs Research Company Careers Get in Touch ...</td>\n",
       "      <td>1</td>\n",
       "    </tr>\n",
       "    <tr>\n",
       "      <td>2</td>\n",
       "      <td>Toggle navigation Product Projects Company His...</td>\n",
       "      <td>1</td>\n",
       "    </tr>\n",
       "    <tr>\n",
       "      <td>3</td>\n",
       "      <td>Brainpeek Solutions Create a seamless online u...</td>\n",
       "      <td>1</td>\n",
       "    </tr>\n",
       "    <tr>\n",
       "      <td>4</td>\n",
       "      <td>The Tool Our Languages Services Extract Produc...</td>\n",
       "      <td>1</td>\n",
       "    </tr>\n",
       "    <tr>\n",
       "      <td>...</td>\n",
       "      <td>...</td>\n",
       "      <td>...</td>\n",
       "    </tr>\n",
       "    <tr>\n",
       "      <td>4889</td>\n",
       "      <td>Username or Email L senord Remember me Norsk S...</td>\n",
       "      <td>0</td>\n",
       "    </tr>\n",
       "    <tr>\n",
       "      <td>4890</td>\n",
       "      <td>Solutions Solution for distributors Covered re...</td>\n",
       "      <td>0</td>\n",
       "    </tr>\n",
       "    <tr>\n",
       "      <td>4891</td>\n",
       "      <td>BROWSE PRODUCTS Variety Cases Pasta Mac and Ch...</td>\n",
       "      <td>0</td>\n",
       "    </tr>\n",
       "    <tr>\n",
       "      <td>4892</td>\n",
       "      <td>Pricing Documentation Community Changelog Logi...</td>\n",
       "      <td>0</td>\n",
       "    </tr>\n",
       "    <tr>\n",
       "      <td>4893</td>\n",
       "      <td>FAQ Jobs Blog Contact FAQ Jobs Blog Contact Sc...</td>\n",
       "      <td>0</td>\n",
       "    </tr>\n",
       "  </tbody>\n",
       "</table>\n",
       "<p>4894 rows × 2 columns</p>\n",
       "</div>"
      ],
      "text/plain": [
       "                                              home_text  AI\n",
       "0     Skip to main content Products GPU accelerated ...   1\n",
       "1     Our AIs Research Company Careers Get in Touch ...   1\n",
       "2     Toggle navigation Product Projects Company His...   1\n",
       "3     Brainpeek Solutions Create a seamless online u...   1\n",
       "4     The Tool Our Languages Services Extract Produc...   1\n",
       "...                                                 ...  ..\n",
       "4889  Username or Email L senord Remember me Norsk S...   0\n",
       "4890  Solutions Solution for distributors Covered re...   0\n",
       "4891  BROWSE PRODUCTS Variety Cases Pasta Mac and Ch...   0\n",
       "4892  Pricing Documentation Community Changelog Logi...   0\n",
       "4893  FAQ Jobs Blog Contact FAQ Jobs Blog Contact Sc...   0\n",
       "\n",
       "[4894 rows x 2 columns]"
      ]
     },
     "execution_count": 65,
     "metadata": {},
     "output_type": "execute_result"
    }
   ],
   "source": [
    "#Getting new dataframe only with relevant columns and saving csv file\n",
    "df3 = df[['home_text', 'AI']]\n",
    "df3.to_csv('Study.csv')\n",
    "df3\n"
   ]
  },
  {
   "cell_type": "code",
   "execution_count": 66,
   "metadata": {},
   "outputs": [
    {
     "data": {
      "text/plain": [
       "\"Toggle navigation How it Works (current) Pricing FAQ Contact REQUEST DEMO AI powered helicopter patrols for Vegetation Management and Pole Top inspections Get useful information for multiple departments with a single flight. Our customizable reports are\\n tailored to your unique workflows. REQUEST\\n DEMO How it Works Get straight to the answers you need. We build a database of answers to your most pressing questions, so you don't have to analyze thousands of\\n raw images or point clouds. We collect aerial data from manned helicopters or UAVs. Our AI analyzes data in the cloud. Our AI generates a searchable database of the status of every component and and its condition. Then it exports customizable reports of what each end user needs to know. A human expert reviews the reports for accuracy before publishing. The final results are available online via web portal, and as PDFs. Have your own reporting tools? Seamlessly integrate the available data into your existing workflows\\n with our API and integration service. COMING SOON Reports the way you want them to be You own the data Reports are always updated with latest features at no cost Customizable reports for each user Pricing $1,000 / mile Flat rate Report Includes: Full asset inventory Vegetation violations and volumetrics Report of all faulty components Certified lineman review on all condition assessments See what Aerotronic can do for you REQUEST DEMO How it Works Pricing FAQ Contact request demo A techstars backed company 2019 Aerotronic Developed by FarShore Contact Us Name Email Message Submit Request Demo Name Email Request\\n Demo. The final results are available online via web portal, and as PDFs. Have your own reporting tools? Seamlessly integrate the available data into your existing workflows\\n with our API and integration service. COMING SOON Reports the way you want them to be You own the data Reports are always updated with latest features at no cost Customizable reports for each user Pricing $1,000 / mile Flat rate Report Includes: Full asset inventory Vegetation violations and volumetrics Report of all faulty components Certified lineman review on all condition assessments See what Aerotronic can do for you REQUEST DEMO How it Works Pricing FAQ Contact request demo A techstars backed company 2019 Aerotronic Developed by FarShore Contact Us Name Email Message Submit Request Demo Name Email Request\\n Demo. Have your own reporting tools? Seamlessly integrate the available data into your existing workflows\\n with our API and integration service. COMING SOON Reports the way you want them to be You own the data Reports are always updated with latest features at no cost Customizable reports for each user Pricing $1,000 / mile Flat rate Report Includes: Full asset inventory Vegetation violations and volumetrics Report of all faulty components Certified lineman review on all condition assessments See what Aerotronic can do for you REQUEST DEMO How it Works Pricing FAQ Contact request demo A techstars backed company 2019 Aerotronic Developed by FarShore Contact Us Name Email Message Submit Request Demo Name Email Request\\n Demo. The final results are available online via web portal, and as PDFs. Have your own reporting tools? Seamlessly integrate the available data into your existing workflows\\n with our API and integration service. COMING SOON Reports the way you want them to be You own the data Reports are always updated with latest features at no cost Customizable reports for each user Pricing $1,000 / mile Flat rate Report Includes: Full asset inventory Vegetation violations and volumetrics Report of all faulty components Certified lineman review on all condition assessments See what Aerotronic can do for you REQUEST DEMO How it Works Pricing FAQ Contact request demo A techstars backed company 2019 Aerotronic Developed by FarShore Contact Us Name Email Message Submit Request Demo Name Email Request\\n Demo\""
      ]
     },
     "execution_count": 66,
     "metadata": {},
     "output_type": "execute_result"
    }
   ],
   "source": [
    "#Check random home text to see the text\n",
    "df.home_text.iloc[1234]"
   ]
  },
  {
   "cell_type": "code",
   "execution_count": 67,
   "metadata": {},
   "outputs": [
    {
     "data": {
      "text/plain": [
       "1    2447\n",
       "0    2447\n",
       "Name: AI, dtype: int64"
      ]
     },
     "execution_count": 67,
     "metadata": {},
     "output_type": "execute_result"
    },
    {
     "data": {
      "image/png": "[encoded data removed]",
      "text/plain": [
       "<Figure size 432x288 with 1 Axes>"
      ]
     },
     "metadata": {
      "needs_background": "light"
     },
     "output_type": "display_data"
    }
   ],
   "source": [
    "#Counting number of websites with AI to check distribution\n",
    "df.AI.value_counts().sort_values().plot(kind = 'bar')\n",
    "WithAI = df.AI.value_counts()\n",
    "WithAI"
   ]
  },
  {
   "cell_type": "code",
   "execution_count": 68,
   "metadata": {},
   "outputs": [],
   "source": [
    "#Splitting companies with/without AI and saving them in a CSV\n",
    "WithAI = df[df.AI == 1]\n",
    "NoAI = df[df.AI == 0]\n",
    "WithAI.to_csv('WithAI.csv')\n",
    "NoAI.to_csv('NoAI.csv')"
   ]
  },
  {
   "cell_type": "code",
   "execution_count": 69,
   "metadata": {},
   "outputs": [],
   "source": [
    "#Pre-processing functions\n",
    "def clean_text(text):\n",
    "    text = str(text).lower()\n",
    "    text = re.sub('\\[.*?\\]', '', text)\n",
    "    text = re.sub('https?://\\S+|www\\.\\S+', '', text)\n",
    "    text = re.sub('<.*?>+', '', text)\n",
    "    text = re.sub('\\n', '', text)\n",
    "    text = re.sub('\\w*\\d\\w*', '', text)\n",
    "    text = re.sub(r\"'s\", \"\", text)\n",
    "    text = re.sub(r\"\\'ve\", \" have \", text)\n",
    "    text = re.sub(r\"can't\", \"cannot \", text)\n",
    "    text = re.sub(r\"n't\", \" not \", text)\n",
    "    text = re.sub(r\"I'm\", \"I am\", text)\n",
    "    text = re.sub(r\" m \", \" am \", text)\n",
    "    text = re.sub(r\"\\'re\", \" are \", text)\n",
    "    text = re.sub(r\"\\'d\", \" would \", text)\n",
    "    text = re.sub(r\"\\'ll\", \" will \", text)\n",
    "    text = re.sub(r\"http\", \"\", text)\n",
    "    text = re.sub(r\"[^A-Za-z]\", \" \", text)\n",
    "    return text\n",
    "\n",
    "tokenizer = ToktokTokenizer()\n",
    "stopword_list = nltk.corpus.stopwords.words('english')\n",
    "\n",
    "def remove_stopwords(text):\n",
    "    tokens = tokenizer.tokenize(text)\n",
    "    tokens = [token.strip() for token in tokens]\n",
    "    t = [token for token in tokens if token.lower() not in stopword_list]\n",
    "    text = ' '.join(t)    \n",
    "    return text\n",
    "\n",
    "def stemmer(text):\n",
    "    stemmer = SnowballStemmer('english')\n",
    "    text = ' '.join([stemmer.stem(word) for word in text.split()])\n",
    "    return text\n",
    "\n",
    "def lemmatize(text):\n",
    "    lem = WordNetLemmatizer()\n",
    "    \n",
    "    return  [lem.lemmatize(word) for word in text]\n",
    "\n",
    "nlp = spacy.load('en_core_web_sm',parse=True,tag=True, entity=True)\n",
    "def get_lem(text):\n",
    "    text = nlp(text)\n",
    "    text = ' '.join([word.lemma_ if word.lemma_ != '-PRON-' else word.text for word in text])\n",
    "    return text\n"
   ]
  },
  {
   "cell_type": "code",
   "execution_count": 70,
   "metadata": {},
   "outputs": [],
   "source": [
    "# cleaning dataframe\n",
    "df = df3[['home_text', 'AI']]\n",
    "df['home_text'] = df['home_text'].apply(lambda x:clean_text(x))\n",
    "df['home_text'] = df['home_text'].apply(lambda x:stemmer(x))\n"
   ]
  },
  {
   "cell_type": "code",
   "execution_count": 71,
   "metadata": {},
   "outputs": [],
   "source": [
    "#Spliting data\n",
    "X_train,X_test,y_train,y_test=train_test_split(df['home_text'],df['AI'],test_size=0.15,random_state=37)"
   ]
  },
  {
   "cell_type": "code",
   "execution_count": 72,
   "metadata": {},
   "outputs": [],
   "source": [
    "#Vectorizing and getting TF - IDF for the dataset\n",
    "vectorizer=TfidfVectorizer()\n",
    "tfidf_vect = vectorizer.fit(df['home_text'])\n",
    "X_train_tfidf = tfidf_vect.transform(X_train)\n",
    "X_test_tfidf = tfidf_vect.transform(X_test)"
   ]
  },
  {
   "cell_type": "code",
   "execution_count": 73,
   "metadata": {},
   "outputs": [
    {
     "data": {
      "text/plain": [
       "LinearSVC(C=1.0, class_weight=None, dual=True, fit_intercept=True,\n",
       "          intercept_scaling=1, loss='squared_hinge', max_iter=1000,\n",
       "          multi_class='ovr', penalty='l2', random_state=None, tol=0.0001,\n",
       "          verbose=0)"
      ]
     },
     "execution_count": 73,
     "metadata": {},
     "output_type": "execute_result"
    }
   ],
   "source": [
    "#Fitting model\n",
    "clf=LinearSVC()\n",
    "clf.fit(X_train_tfidf,y_train)"
   ]
  },
  {
   "cell_type": "code",
   "execution_count": 74,
   "metadata": {},
   "outputs": [],
   "source": [
    "#Prediction\n",
    "pred = clf.predict(X_test_tfidf)"
   ]
  },
  {
   "cell_type": "code",
   "execution_count": 75,
   "metadata": {},
   "outputs": [
    {
     "name": "stdout",
     "output_type": "stream",
     "text": [
      "[[322  45]\n",
      " [ 49 319]]\n",
      "              precision    recall  f1-score   support\n",
      "\n",
      "           0       0.87      0.88      0.87       367\n",
      "           1       0.88      0.87      0.87       368\n",
      "\n",
      "    accuracy                           0.87       735\n",
      "   macro avg       0.87      0.87      0.87       735\n",
      "weighted avg       0.87      0.87      0.87       735\n",
      "\n"
     ]
    }
   ],
   "source": [
    "#Confusion matrix\n",
    "print(confusion_matrix(y_test,pred))\n",
    "print(classification_report(y_test,pred))"
   ]
  },
  {
   "cell_type": "code",
   "execution_count": 76,
   "metadata": {},
   "outputs": [
    {
     "data": {
      "text/plain": [
       "0.8721088435374149"
      ]
     },
     "execution_count": 76,
     "metadata": {},
     "output_type": "execute_result"
    }
   ],
   "source": [
    "#Accuracy\n",
    "metrics.accuracy_score(y_test,pred)"
   ]
  },
  {
   "cell_type": "code",
   "execution_count": 17,
   "metadata": {},
   "outputs": [],
   "source": [
    "#Word2vec&keras model to compare with LinearSVC"
   ]
  },
  {
   "cell_type": "code",
   "execution_count": 82,
   "metadata": {},
   "outputs": [],
   "source": [
    "import gensim\n",
    "from tensorflow.keras.preprocessing.text import Tokenizer\n",
    "from tensorflow.keras.preprocessing.sequence import pad_sequences\n",
    "from tensorflow.keras.models import Sequential\n",
    "from tensorflow.keras.layers import Dense, Embedding, LSTM, Conv1D, MaxPool1D\n",
    "from sklearn.model_selection import train_test_split\n",
    "from sklearn.metrics import classification_report, accuracy_score\n",
    "import keras"
   ]
  },
  {
   "cell_type": "code",
   "execution_count": 96,
   "metadata": {},
   "outputs": [],
   "source": [
    "y = df[\"AI\"].values\n",
    "#Converting X to format acceptable by gensim\n",
    "X = []\n",
    "stop_words = set(nltk.corpus.stopwords.words(\"english\"))\n",
    "tokenizer = nltk.tokenize.RegexpTokenizer(r'\\w+')\n",
    "for par in df[\"home_text\"].values:\n",
    "    tmp = []\n",
    "    sentences = nltk.sent_tokenize(par)\n",
    "    for sent in sentences:\n",
    "        sent = sent.lower()\n",
    "        tokens = tokenizer.tokenize(sent)\n",
    "        filtered_words = [w.strip() for w in tokens if w not in stop_words and len(w) > 1]\n",
    "        tmp.extend(filtered_words)\n",
    "    X.append(tmp)\n"
   ]
  },
  {
   "cell_type": "code",
   "execution_count": 84,
   "metadata": {},
   "outputs": [
    {
     "data": {
      "text/plain": [
       "array([list(['skip', 'main', 'content', 'product', 'gpu', 'acceler', 'databas', 'spotlyt', 'visualis', 'solut', 'retail', 'telecom', 'financ', 'logist', 'dna', 'oil', 'gas', 'resourc', 'blog', 'document', 'technic', 'support', 'video', 'white', 'paper', 'us', 'team', 'partner', 'custom', 'contact', 'world', 'fastest', 'advanc', 'gpu', 'databas', 'brytlyt', 'combin', 'power', 'gpus', 'patent', 'pend', 'ip', 'built', 'postgresql', 'gain', 'within', 'hour', 'deploy', 'time', 'faster', 'tradit', 'system', 'seamless', 'integr', 'exist', 'infrastructur', 'use', 'data', 'connector', 'featur', 'rich', 'easi', 'use', 'tool', 'base', 'postgresql', 'add', 'gpu', 'cloud', 'resourc', 'fli', 'system', 'scale', 'need', 'let', 'visualis', 'tool', 'slow', 'spotlyt', 'brytlyt', 'super', 'fast', 'analyt', 'workbench', 'complet', 'tool', 'analyst', 'data', 'scientist', 'busi', 'intellig', 'brytlyt', 'gpu', 'databas', 'smash', 'benchmark', 'record', 'independ', 'benchmark', 'brytlyt', 'gpu', 'databas', 'outperform', 'vendor', 'factor', 'four', 'postgresql', 'fork', 'tap', 'super', 'comput', 'power', 'ibm', 'minski', 'hardwar', 'world', 'advanc', 'gpu', 'acceler', 'databas', 'brytlyt', 'gpu', 'databas', 'analyt', 'platform', 'patent', 'pend', 'ip', 'transform', 'way', 'busi', 'use', 'data', 'multibillion', 'row', 'dataset', 'queri', 'second', 'massiv', 'reduc', 'cost', 'astonish', 'perform', 'data', 'process', 'speed', 'time', 'faster', 'tradit', 'system', 'within', 'hour', 'deploy', 'brytlyt', 'gpu', 'power', 'platform', 'provid', 'real', 'time', 'insight', 'larg', 'stream', 'data', 'set', 'easi', 'integr', 'exist', 'system', 'need', 'lose', 'current', 'invest', 'code', 'analyt', 'visualis', 'instead', 'acceler', 'brytlyt', 'littl', 'effort', 'smooth', 'scalabl', 'add', 'remov', 'gpu', 'resourc', 'scale', 'process', 'capabl', 'suit', 'need', 'ensur', 'massiv', 'reduc', 'data', 'process', 'cost', 'function', 'rich', 'easi', 'use', 'brytlyt', 'built', 'postgresql', 'deep', 'function', 'compliment', 'outstand', 'eas', 'use', 'learn', 'product', 'find', 'find', 'solut', 'world', 'data', 'driven', 'decis', 'make', 'import', 'ever', 'befor', 'abl', 'improv', 'time', 'valu', 'answer', 'complex', 'question', 'peopl', 'ever', 'grow', 'amount', 'data', 'essenti', 'retail', 'telecom', 'financ', 'logist', 'dna', 'oil', 'gas', 'partner', 'custom', 'compani', 'valu', 'brytlyt', 'young', 'dynam', 'compani', 'clear', 'mission', 'empow', 'organis', 'transform', 'data', 'analyt', 'firm', 'believ', 'heart', 'achiev', 'deliv', 'speed', 'thought', 'analyt', 'scale', 'integr', 'look', 'custom', 'partner', 'energi', 'passion', 'commit', 'attitud', 'excel', 'expect', 'veri', 'best', 'ourselv', 'partner', 'follow', 'us', 'twitter', 'follow', 'us', 'linkedin', 'contact', 'blog', 'sitemap', 'copyright', 'brytlyt', 'contact', 'us', 'whitepap', 'get', 'touch', 'free', 'trial', 'energi', 'passion', 'commit', 'attitud', 'excel', 'expect', 'veri', 'best', 'ourselv', 'partner', 'follow', 'us', 'twitter', 'follow', 'us', 'linkedin', 'contact', 'blog', 'sitemap', 'copyright', 'brytlyt', 'contact', 'us', 'whitepap', 'get', 'touch', 'free', 'trial', 'excel', 'expect', 'veri', 'best', 'ourselv', 'partner', 'follow', 'us', 'twitter', 'follow', 'us', 'linkedin', 'contact', 'blog', 'sitemap', 'copyright', 'brytlyt', 'contact', 'us', 'whitepap', 'get', 'touch', 'free', 'trial', 'energi', 'passion', 'commit', 'attitud', 'excel', 'expect', 'veri', 'best', 'ourselv', 'partner', 'follow', 'us', 'twitter', 'follow', 'us', 'linkedin', 'contact', 'blog', 'sitemap', 'copyright', 'brytlyt', 'contact', 'us', 'whitepap', 'get', 'touch', 'free', 'trial']),\n",
       "       list(['ai', 'research', 'compani', 'career', 'get', 'touch', 'ai', 'research', 'compani', 'career', 'get', 'touch', 'scroll', 'ai', 'everyon', 'dmetric', 'found', 'lead', 'expert', 'ai', 'natur', 'languag', 'process', 'built', 'ai', 'platform', 'empow', 'busi', 'profession', 'creat', 'deploy', 'ai', 'extract', 'insight', 'ani', 'text', 'get', 'result', 'without', 'write', 'code', 'code', 'click', 'ai', 'platform', 'busi', 'expert', 'actual', 'use', 'built', 'granular', 'target', 'exact', 'need', 'one', 'size', 'fit', 'nimbl', 'get', 'go', 'minut', 'month', 'adapt', 'need', 'evolv', 'doe', 'ai', 'trust', 'industri', 'leader', 'compani', 'advanc', 'ai', 'nlp', 'research', 'view', 'public', 'grow', 'look', 'top', 'talent', 'view', 'career', 'welcom', 'found', 'code', 'code', 'built', 'trust', 'research', 'career', 'dmetric', 'north', 'st', 'brooklyn', 'unit', 'state', 'info', 'dmetric', 'com', 'hour', 'ai', 'research', 'compani', 'career', 'contact', 'privaci', 'polici', 'term', 'condit', 'dmetric', 'inc', 'brooklyn', 'unit', 'state', 'info', 'dmetric', 'com', 'hour', 'ai', 'research', 'compani', 'career', 'contact', 'privaci', 'polici', 'term', 'condit', 'dmetric', 'inc', 'com', 'hour', 'ai', 'research', 'compani', 'career', 'contact', 'privaci', 'polici', 'term', 'condit', 'dmetric', 'inc', 'brooklyn', 'unit', 'state', 'info', 'dmetric', 'com', 'hour', 'ai', 'research', 'compani', 'career', 'contact', 'privaci', 'polici', 'term', 'condit', 'dmetric', 'inc']),\n",
       "       list(['toggl', 'navig', 'product', 'project', 'compani', 'histori', 'project', 'compani', 'histori', 'news', 'contact', 'request', 'test', 'drive', 'intellectu', 'autopilot', 'warehous', 'machin', 'watch', 'video', 'info', 'robocv', 'ru', 'trust', 'us', 'robocv', 'motion', 'ng', 'robocv', 'motion', 'ng', 'solut', 'aim', 'autom', 'horizont', 'pallet', 'movement', 'within', 'fmcg', 'distribut', 'centr', 'warehous', 'implement', 'veri', 'easi', 'doe', 'requir', 'ani', 'chang', 'exist', 'client', 'process', 'robot', 'target', 'work', 'high', 'traffic', 'machin', 'peopl', 'distinct', 'advantag', 'made', 'us', 'attract', 'solut', 'agv', 'market', 'solut', 'consist', 'regular', 'electr', 'forklift', 'equip', 'autopilot', 'system', 'robocv', 'cloud', 'base', 'servic', 'optim', 'task', 'distribut', 'among', 'robot', 'real', 'time', 'integr', 'local', 'wms', 'system', 'possibl', 'uniqu', 'advanc', 'technolog', 'robocv', 'allow', 'robot', 'work', 'fast', 'safeti', 'alongsid', 'human', 'power', 'onlin', 'tool', 'help', 'implement', 'project', 'painless', 'quick', 'work', 'collect', 'map', 'warehous', 'visual', 'map', 'creat', 'pretti', 'fast', 'simpl', 'process', 'onli', 'need', 'move', 'robot', 'one', 'time', 'warehous', 'manual', 'collect', 'data', 'creat', 'virtual', 'road', 'object', 'map', 'calcul', 'layout', 'virtual', 'object', 'road', 'pallet', 'etc', 'creat', 'use', 'user', 'friend', 'web', 'servic', 'also', 'sync', 'object', 'wms', 'extern', 'system', 'connect', 'robot', 'requir', 'number', 'forklift', 'equip', 'autopilot', 'subsystem', 'sensor', 'comput', 'softwar', 'robot', 'connect', 'cloud', 'base', 'robocv', 'server', 'creat', 'task', 'user', 'may', 'creat', 'task', 'robot', 'manual', 'use', 'forecast', 'time', 'tasksexecut', 'also', 'task', 'creat', 'automat', 'event', 'extern', 'wms', 'system', 'control', 'result', 'complet', 'task', 'user', 'generat', 'excel', 'report', 'well', 'analyz', 'current', 'finish', 'task', 'use', 'comprehens', 'statist', 'real', 'time', 'represent', 'map', 'smaprtphon', 'app', 'project', 'major', 'intern', 'oper', 'goal', 'project', 'reduc', 'personnel', 'cost', 'improv', 'oper', 'qualiti', 'introduc', 'autom', 'pallet', 'truck', 'handl', 'two', 'type', 'process', 'pick', 'transport', 'pallet', 'first', 'tier', 'shelv', 'gate', 'unload', 'transport', 'pallet', 'gate', 'shelv', 'load', 'project', 'consist', 'implement', 'motion', 'ng', 'solut', 'includ', 'agv', 'cloud', 'client', 'server', 'softwar', 'autom', 'warehous', 'process', 'mention', 'abov', 'project', 'iscurr', 'process', 'implement', 'autom', 'process', 'transport', 'pallet', 'first', 'tier', 'shelv', 'gate', 'wms', 'system', 'warehous', 'generat', 'transport', 'task', 'contain', 'onli', 'tier', 'pallet', 'autom', 'process', 'transport', 'pallet', 'gate', 'shelv', 'system', 'oper', 'creat', 'task', 'onli', 'indic', 'gate', 'number', 'robot', 'automat', 'defin', 'locat', 'pallet', 'next', 'gate', 'scan', 'barcod', 'request', 'target', 'space', 'shelv', 'wms', 'system', 'left', 'pallet', 'near', 'shelf', 'next', 'target', 'space', 'robot', 'transfer', 'task', 'lift', 'pallet', 'reach', 'truck', 'oper', 'via', 'oper', 'person', 'interfac', 'tablet', 'pc', 'mount', 'reach', 'truck', 'provid', 'task', 'oper', 'project', 'suppos', 'opportun', 'expand', 'number', 'agv', 'without', 'ani', 'addit', 'adjust', 'implement', 'possibl', 'gradual', 'scale', 'number', 'robot', 'andautom', 'process', 'distinct', 'advantag', 'solut', 'motion', 'ng', 'allow', 'make', 'implement', 'increment', 'therebi', 'minim', 'risk', 'custom', 'compani', 'robocv', 'mission', 'creat', 'autonom', 'mobil', 'robot', 'system', 'wide', 'varieti', 'high', 'frequenc', 'repeat', 'task', 'intra', 'warehous', 'distribut', 'center', 'logist', 'ultim', 'goal', 'creat', 'cloud', 'platform', 'receiv', 'process', 'varieti', 'input', 'integr', 'robot', 'exist', 'vehicl', 'personnel', 'sensor', 'data', 'smart', 'optim', 'logist', 'task', 'valu', 'add', 'layer', 'exist', 'wms', 'erp', 'commerc', 'asset', 'visibl', 'fm', 'first', 'product', 'platform', 'uniqu', 'motion', 'ng', 'system', 'develop', 'compani', 'test', 'various', 'scenario', 'major', 'global', 'compani', 'samsung', 'volkswagen', 'fm', 'logist', 'top', 'retail', 'allow', 'cost', 'effect', 'autom', 'ship', 'pallet', 'good', 'robocv', 'team', 'uniqu', 'compet', 'comput', 'machin', 'vision', 'optim', 'rout', 'busi', 'process', 'logist', 'optim', 'motion', 'control', 'algorithm', 'mobil', 'robot', 'firmwar', 'iot', 'cloud', 'ar', 'vr', 'voic', 'biometr', 'machin', 'learn', 'lidar', 'rf', 'mw', 'phds', 'elit', 'physic', 'math', 'econom', 'institut', 'work', 'cern', 'nasa', 'jsa', 'esa', 'read', 'histori', 'robocv', 'februari', 'round', 'invest', 'million', 'octob', 'creation', 'first', 'prototyp', 'autom', 'pallet', 'truck', 'septemb', 'pilot', 'project', 'russian', 'volkswagen', 'plant', 'conclus', 'contract', 'suppli', 'first', 'group', 'mobil', 'autonom', 'robot', 'news', 'novemb', 'robocv', 'among', 'best', 'startup', 'artifici', 'intellig', 'industri', 'europ', 'artifici', 'intellig', 'ai', 'strateg', 'import', 'sector', 'europ', 'continu', 'driver', 'econom', 'develop', 'popular', 'cultur', 'often', 'misrepres', 'evil', 'robot', 'armi', 'becom', 'self', 'awar', 'wipe', 'human', 'stand', 'articl', 'nitti', 'gritti', 'stuff', 'discuss', 'articl', 'cover', 'ai', 'european', 'ecosystem', 'compar', 'two', 'ai', 'superpow', 'china', 'us', 'european', 'startup', 'look', 'origin', 'articl', 'read', 'contact', 'moscow', 'russia', 'tel', 'bldg', 'hous', 'bolshoy', 'boulevard', 'skolkovo', 'innov', 'center', 'moscow', 'russia', 'general', 'inquiri', 'info', 'robocv', 'com', 'mail', 'client', 'partner', 'sale', 'robocv', 'com', 'request', 'test', 'drive', 'name', 'mail', 'compani', 'messag', 'submit', 'bldg', 'hous', 'bolshoy', 'boulevard', 'skolkovo', 'innov', 'center', 'moscow', 'russia', 'general', 'inquiri', 'info', 'robocv', 'com', 'mail', 'client', 'partner', 'sale', 'robocv', 'com', 'request', 'test', 'drive', 'name', 'mail', 'compani', 'messag', 'submit', 'com', 'mail', 'client', 'partner', 'sale', 'robocv', 'com', 'request', 'test', 'drive', 'name', 'mail', 'compani', 'messag', 'submit', 'bldg', 'hous', 'bolshoy', 'boulevard', 'skolkovo', 'innov', 'center', 'moscow', 'russia', 'general', 'inquiri', 'info', 'robocv', 'com', 'mail', 'client', 'partner', 'sale', 'robocv', 'com', 'request', 'test', 'drive', 'name', 'mail', 'compani', 'messag', 'submit']),\n",
       "       ...,\n",
       "       list(['brows', 'product', 'varieti', 'case', 'pasta', 'mac', 'chees', 'rice', 'buy', 'recip', 'us', 'career', 'faq', 'press', 'kit', 'brows', 'product', 'varieti', 'case', 'pasta', 'mac', 'chees', 'rice', 'find', 'banza', 'recip', 'us', 'career', 'faq', 'press', 'kit', 'account', 'pasta', 'made', 'chickpea', 'protein', 'fewer', 'carb', 'find', 'near', 'fastest', 'sell', 'pasta', 'brand', 'whole', 'food', 'target', 'store', 'pasta', 'made', 'chickpea', 'basic', 'salad', 'right', 'pasta', 'worth', 'gluten', 'free', 'hype', 'tri', 'lot', 'alt', 'pasta', 'polish', 'bowl', 'refil', 'italian', 'american', 'obsess', 'chickpea', 'pasta', 'even', 'got', 'kid', 'eat', 'banza', 'ing', 'delici', 'healthi', 'twist', 'al', 'dent', 'dinner', 'gluten', 'free', 'pasta', 'much', 'protein', 'steak', 'banza', 'noodl', 'good', 'though', 'buy', 'go', 'mushi', 'make', 'banza', 'better', 'made', 'chickpea', 'gluten', 'free', 'fewer', 'carb', 'protein', 'good', 'bodi', 'planet', 'tast', 'like', 'pasta', 'star', 'review', 'amazon', 'find', 'banza', 'find', 'banza', 'product', 'pasta', 'mac', 'chees', 'rice', 'varieti', 'case', 'pasta', 'mac', 'chees', 'rice', 'varieti', 'case', 'tast', 'like', 'regular', 'pasta', 'good', 'tell', 'pasta', 'chang', 'life', 'kristen', 'bell', 'actress', 'featur', 'recip', 'carbonara', 'lasagna', 'bowti', 'romanesco', 'carbonara', 'lasagna', 'bowti', 'romanesco', 'see', 'recip', 'follow', 'along', 'keep', 'us', 'social', 'media', 'follow', 'eatbanza', 'join', 'pasta', 'revolut', 'success', 'thank', 'sign', 'continu', 'shop', 'banza', 'contact', 'us', 'faq', 'career', 'foodservic', 'rd', 'ambassador', 'donat', 'polici', 'privaci', 'polici', 'return', 'polici', 'term', 'servic', 'term', 'condit', 'social', 'facebook', 'twitter', 'instagram', 'pinterest', 'right', 'reserv', 'tell', 'pasta', 'chang', 'life', 'kristen', 'bell', 'actress', 'featur', 'recip', 'carbonara', 'lasagna', 'bowti', 'romanesco', 'carbonara', 'lasagna', 'bowti', 'romanesco', 'see', 'recip', 'follow', 'along', 'keep', 'us', 'social', 'media', 'follow', 'eatbanza', 'join', 'pasta', 'revolut', 'success', 'thank', 'sign', 'continu', 'shop', 'banza', 'contact', 'us', 'faq', 'career', 'foodservic', 'rd', 'ambassador', 'donat', 'polici', 'privaci', 'polici', 'return', 'polici', 'term', 'servic', 'term', 'condit', 'social', 'facebook', 'twitter', 'instagram', 'pinterest', 'right', 'reserv', 'right', 'reserv', 'tell', 'pasta', 'chang', 'life', 'kristen', 'bell', 'actress', 'featur', 'recip', 'carbonara', 'lasagna', 'bowti', 'romanesco', 'carbonara', 'lasagna', 'bowti', 'romanesco', 'see', 'recip', 'follow', 'along', 'keep', 'us', 'social', 'media', 'follow', 'eatbanza', 'join', 'pasta', 'revolut', 'success', 'thank', 'sign', 'continu', 'shop', 'banza', 'contact', 'us', 'faq', 'career', 'foodservic', 'rd', 'ambassador', 'donat', 'polici', 'privaci', 'polici', 'return', 'polici', 'term', 'servic', 'term', 'condit', 'social', 'facebook', 'twitter', 'instagram', 'pinterest', 'right', 'reserv']),\n",
       "       list(['price', 'document', 'communiti', 'changelog', 'login', 'sign', 'introduc', 'compos', 'pro', 'never', 'go', 'back', 'code', 'serious', 'world', 'first', 'profession', 'code', 'platform', 'enabl', 'build', 'app', 'form', 'factor', 'includ', 'mobil', 'desktop', 'browser', 'tv', 'sign', 'free', 'featur', 'build', 'qualiti', 'app', 'without', 'compromis', 'year', 'experi', 'deliv', 'best', 'product', 'design', 'pixel', 'perfect', 'design', 'compos', 'pro', 'never', 'compromis', 'design', 'implement', 'everi', 'style', 'properti', 'think', 'easi', 'drag', 'drop', 'style', 'control', 'learn', 'compon', 'addit', 'core', 'build', 'block', 'aspect', 'app', 'easili', 'compos', 'new', 'compon', 'share', 'becom', 'part', 'communiti', 'learn', 'nativ', 'perform', 'compos', 'pro', 'produc', 'high', 'optim', 'react', 'nativ', 'app', 'access', 'nativ', 'devic', 'capabl', 'say', 'goodby', 'hybrid', 'web', 'app', 'welcom', 'star', 'app', 'experi', 'learn', 'power', 'theme', 'engin', 'larg', 'librari', 'user', 'interfac', 'compon', 'onli', 'help', 'mix', 'match', 'use', 'togeth', 'compos', 'pro', 'theme', 'engin', 'power', 'learn', 'unlimit', 'logic', 'visual', 'combin', 'hundr', 'logic', 'function', 'built', 'liter', 'limit', 'creat', 'math', 'engin', 'array', 'oper', 'ui', 'logic', 'got', 'cover', 'learn', 'integr', 'api', 'minut', 'compos', 'pro', 'rest', 'integr', 'wizard', 'integr', 'ani', 'modern', 'api', 'minut', 'addit', 'marketplac', 'full', 'pre', 'built', 'integr', 'add', 'api', 'key', 'go', 'learn', 'featur', 'truli', 'cross', 'platform', 'build', 'app', 'onc', 'run', 'platform', 'even', 'tv', 'build', 'first', 'app', 'minut', 'sign', 'free', 'drag', 'drop', 'user', 'interfac', 'compos', 'pro', 'craft', 'app', 'user', 'interfac', 'easi', 'prototyp', 'instead', 'put', 'togeth', 'prototyp', 'build', 'real', 'softwar', 'everi', 'imagin', 'style', 'properti', 'readili', 'avail', 'menu', 'chang', 'preview', 'final', 'result', 'real', 'time', 'add', 'anim', 'upload', 'custom', 'font', 'famili', 'chang', 'adapt', 'design', 'set', 'make', 'mobil', 'app', 'beauti', 'tv', 'screen', 'feel', 'like', 'cheat', 'new', 'standard', 'never', 'go', 'back', 'write', 'code', 'view', 'watch', 'video', 'work', 'creat', 'ani', 'logic', 'visual', 'imagin', 'power', 'program', 'languag', 'avail', 'everi', 'logic', 'function', 'think', 'sensor', 'file', 'oper', 'data', 'function', 'permiss', 'user', 'input', 'anim', 'everyth', 'instead', 'write', 'code', 'learn', 'syntax', 'could', 'drag', 'drop', 'function', 'canva', 'work', 'everi', 'singl', 'paramet', 'variabl', 'may', 'want', 'use', 'function', 'automat', 'avail', 'welcom', 'magic', 'welcom', 'compos', 'pro', 'watch', 'video', 'work', 'bring', 'data', 'data', 'core', 'everi', 'modern', 'applic', 'whi', 'compos', 'pro', 'built', 'around', 'integr', 'data', 'transform', 'first', 'made', 'dead', 'simpl', 'add', 'integr', 'built', 'readi', 'made', 'integr', 'get', 'start', 'final', 'ad', 'nosql', 'develop', 'databas', 'play', 'unlik', 'solut', 'want', 'relay', 'data', 'server', 'integr', 'app', 'backend', 'connect', 'direct', 'call', 'zero', 'lock', 'watch', 'video', 'work', 'magic', 'formula', 'function', 'took', 'simpl', 'concept', 'everyon', 'know', 'spice', 'magic', 'combin', 'spreadsheet', 'type', 'formula', 'built', 'support', 'full', 'applic', 'context', 'built', 'power', 'algorithm', 'editor', 'ever', 'seen', 'combin', 'hundr', 'data', 'transform', 'function', 'relev', 'data', 'devic', 'system', 'info', 'gps', 'locat', 'sensor', 'valu', 'data', 'properti', 'applic', 'state', 'calcul', 'distanc', 'two', 'coordin', 'convert', 'date', 'field', 'local', 'format', 'predict', 'futur', 'valu', 'base', 'histor', 'data', 'calcul', 'interest', 'rate', 'mortgag', 'confirm', 'total', 'price', 'check', 'shop', 'cart', 'basic', 'anyth', 'think', 'watch', 'video', 'work', 'publish', 'app', 'mobil', 'web', 'tablet', 'tv', 'desktop', 'onc', 'done', 'build', 'applic', 'time', 'ship', 'need', 'specif', 'oper', 'system', 'build', 'app', 'certain', 'devic', 'need', 'ani', 'softwar', 'compil', 'code', 'free', 'use', 'cloud', 'build', 'servic', 'request', 'binari', 'version', 'nativ', 'applic', 'simpl', 'step', 'deliv', 'automat', 'never', 'easier', 'want', 'deploy', 'web', 'app', 'easi', 'click', 'releas', 'watch', 'video', 'work', 'look', 'amaz', 'mobil', 'tablet', 'app', 'write', 'result', 'orient', 'ad', 'copi', 'difficult', 'must', 'appeal', 'entic', 'convinc', 'consum', 'mobil', 'readi', 'smart', 'tv', 'app', 'write', 'result', 'orient', 'ad', 'copi', 'difficult', 'must', 'appeal', 'entic', 'convinc', 'consum', 'better', 'motion', 'desktop', 'app', 'write', 'result', 'orient', 'ad', 'copi', 'difficult', 'must', 'appeal', 'entic', 'convinc', 'consum', 'make', 'compos', 'differ', 'built', 'profession', 'use', 'compos', 'pro', 'first', 'profession', 'grade', 'code', 'platform', 'mean', 'exampl', 'thing', 'awesom', 'debug', 'tool', 'custom', 'deploy', 'pipelin', 'power', 'anim', 'engin', 'custom', 'react', 'nativ', 'plugin', 'write', 'result', 'orient', 'ad', 'copi', 'difficult', 'must', 'appeal', 'entic', 'convinc', 'consum', 'take', 'action', 'super', 'adapt', 'design', 'multi', 'languag', 'support', 'write', 'result', 'orient', 'ad', 'copi', 'difficult', 'must', 'appeal', 'entic', 'convinc', 'consum', 'take', 'action', 'optim', 'bundl', 'size', 'custom', 'font', 'support', 'write', 'result', 'orient', 'ad', 'copi', 'difficult', 'must', 'appeal', 'entic', 'convinc', 'consum', 'take', 'action', 'enterpris', 'grade', 'secur', 'built', 'compos', 'pro', 'dhl', 'europ', 'wide', 'trailer', 'fleet', 'manag', 'report', 'integr', 'dhl', 'trailer', 'fleet', 'master', 'data', 'role', 'region', 'base', 'user', 'authent', 'local', 'multipl', 'languag', 'nativ', 'io', 'android', 'app', 'web', 'base', 'admin', 'interfac', 'watch', 'video', 'work', 'built', 'compos', 'pro', 'fingrid', 'mainten', 'finland', 'nation', 'high', 'voltag', 'power', 'grid', 'work', 'fulli', 'offlin', 'onlin', 'databas', 'million', 'record', 'sync', 'seamless', 'devic', 'fingrid', 'ibm', 'maximo', 'backend', 'nativ', 'map', 'integr', 'custom', 'tileset', 'vector', 'layer', 'nativ', 'io', 'android', 'tablet', 'app', 'watch', 'video', 'work', 'build', 'first', 'app', 'minut', 'sign', 'free', 'home', 'forum', 'term', 'servic', 'privaci', 'platform', 'status', 'changelog', 'issu', 'tracker', 'price', 'document', 'merimiehenkatu', 'helsinki', 'finland', 'appgyv', 'inc', 'right', 'reserv', 'appgyv', 'regist', 'trademark', 'appgyv', 'oy', 'enterpris', 'grade', 'secur', 'built', 'compos', 'pro', 'dhl', 'europ', 'wide', 'trailer', 'fleet', 'manag', 'report', 'integr', 'dhl', 'trailer', 'fleet', 'master', 'data', 'role', 'region', 'base', 'user', 'authent', 'local', 'multipl', 'languag', 'nativ', 'io', 'android', 'app', 'web', 'base', 'admin', 'interfac', 'watch', 'video', 'work', 'built', 'compos', 'pro', 'fingrid', 'mainten', 'finland', 'nation', 'high', 'voltag', 'power', 'grid', 'work', 'fulli', 'offlin', 'onlin', 'databas', 'million', 'record', 'sync', 'seamless', 'devic', 'fingrid', 'ibm', 'maximo', 'backend', 'nativ', 'map', 'integr', 'custom', 'tileset', 'vector', 'layer', 'nativ', 'io', 'android', 'tablet', 'app', 'watch', 'video', 'work', 'build', 'first', 'app', 'minut', 'sign', 'free', 'home', 'forum', 'term', 'servic', 'privaci', 'platform', 'status', 'changelog', 'issu', 'tracker', 'price', 'document', 'merimiehenkatu', 'helsinki', 'finland', 'appgyv', 'inc', 'right', 'reserv', 'appgyv', 'regist', 'trademark', 'appgyv', 'oy', 'right', 'reserv', 'appgyv', 'regist', 'trademark', 'appgyv', 'oy', 'enterpris', 'grade', 'secur', 'built', 'compos', 'pro', 'dhl', 'europ', 'wide', 'trailer', 'fleet', 'manag', 'report', 'integr', 'dhl', 'trailer', 'fleet', 'master', 'data', 'role', 'region', 'base', 'user', 'authent', 'local', 'multipl', 'languag', 'nativ', 'io', 'android', 'app', 'web', 'base', 'admin', 'interfac', 'watch', 'video', 'work', 'built', 'compos', 'pro', 'fingrid', 'mainten', 'finland', 'nation', 'high', 'voltag', 'power', 'grid', 'work', 'fulli', 'offlin', 'onlin', 'databas', 'million', 'record', 'sync', 'seamless', 'devic', 'fingrid', 'ibm', 'maximo', 'backend', 'nativ', 'map', 'integr', 'custom', 'tileset', 'vector', 'layer', 'nativ', 'io', 'android', 'tablet', 'app', 'watch', 'video', 'work', 'build', 'first', 'app', 'minut', 'sign', 'free', 'home', 'forum', 'term', 'servic', 'privaci', 'platform', 'status', 'changelog', 'issu', 'tracker', 'price', 'document', 'merimiehenkatu', 'helsinki', 'finland', 'appgyv', 'inc', 'right', 'reserv', 'appgyv', 'regist', 'trademark', 'appgyv', 'oy']),\n",
       "       list(['faq', 'job', 'blog', 'contact', 'faq', 'job', 'blog', 'contact', 'scroll', 'construct', 'robot', 'toggl', 'build', 'new', 'technolog', 'increas', 'safeti', 'effici', 'product', 'world', 'ubiquit', 'build', 'materi', 'reinforc', 'concret', 'learn', 'concret', 'reinforc', 'steel', 'basic', 'build', 'block', 'larg', 'scale', 'construct', 'toggl', 'full', 'stack', 'robot', 'autom', 'solut', 'rebar', 'fabric', 'assembl', 'multipli', 'labor', 'product', 'increas', 'overal', 'product', 'tradit', 'assembl', 'method', 'mission', 'develop', 'technolog', 'construct', 'industri', 'bring', 'new', 'level', 'safeti', 'effici', 'precis', 'product', 'critic', 'construct', 'compon', 'use', 'robot', 'autom', 'toggl', 'reinvent', 'fabric', 'assembl', 'rebar', 'reinforc', 'concret', 'complet', 'digit', 'product', 'process', 'experienc', 'team', 'team', 'bring', 'togeth', 'decad', 'experi', 'construct', 'manufactur', 'robot', 'special', 'tool', 'toggl', 'develop', 'robot', 'materi', 'handl', 'assembl', 'tool', 'construct', 'applic', 'digit', 'workflow', 'softwar', 'provid', 'integr', 'user', 'experi', 'cad', 'detail', 'product', 'deliveri', 'effici', 'process', 'process', 'enorm', 'impact', 'cost', 'toggl', 'process', 'patent', 'pend', 'product', 'fabric', 'toggl', 'suppli', 'fabric', 'rebar', 'urban', 'civil', 'infrastructur', 'construct', 'project', 'use', 'pour', 'place', 'well', 'precast', 'reinforc', 'concret', 'product', 'learn', 'assembl', 'cage', 'pre', 'tie', 'toggl', 'provid', 'cage', 'pre', 'tie', 'servic', 'suppli', 'fulli', 'assembl', 'cage', 'onsit', 'custom', 'manufactur', 'facil', 'demand', 'learn', 'headlin', 'overview', 'use', 'robot', 'autom', 'featur', 'product', 'request', 'quot', 'today', 'proud', 'made', 'new', 'york', 'citi', 'contact', 'brooklyn', 'hour', 'term', 'condit', 'learn', 'headlin', 'overview', 'use', 'robot', 'autom', 'featur', 'product', 'request', 'quot', 'today', 'proud', 'made', 'new', 'york', 'citi', 'contact', 'brooklyn', 'hour', 'term', 'condit', 'proud', 'made', 'new', 'york', 'citi', 'contact', 'brooklyn', 'hour', 'term', 'condit', 'learn', 'headlin', 'overview', 'use', 'robot', 'autom', 'featur', 'product', 'request', 'quot', 'today', 'proud', 'made', 'new', 'york', 'citi', 'contact', 'brooklyn', 'hour', 'term', 'condit'])],\n",
       "      dtype=object)"
      ]
     },
     "execution_count": 84,
     "metadata": {},
     "output_type": "execute_result"
    }
   ],
   "source": [
    "np.array(X)"
   ]
  },
  {
   "cell_type": "code",
   "execution_count": 97,
   "metadata": {},
   "outputs": [],
   "source": [
    "#Dimension of vectors\n",
    "EMBEDDING_DIM = 128\n",
    "\n",
    "#Word2Vec model\n",
    "w2v_model = gensim.models.Word2Vec(sentences=X, size=EMBEDDING_DIM, window=5, min_count=1)"
   ]
  },
  {
   "cell_type": "code",
   "execution_count": 98,
   "metadata": {},
   "outputs": [
    {
     "data": {
      "text/plain": [
       "64608"
      ]
     },
     "execution_count": 98,
     "metadata": {},
     "output_type": "execute_result"
    }
   ],
   "source": [
    "#size\n",
    "len(w2v_model.wv.vocab)"
   ]
  },
  {
   "cell_type": "code",
   "execution_count": 99,
   "metadata": {},
   "outputs": [
    {
     "data": {
      "text/plain": [
       "[('circular', 0.7809706926345825),\n",
       " ('ambit', 0.737944483757019),\n",
       " ('farmer', 0.734214186668396),\n",
       " ('economi', 0.7232407331466675),\n",
       " ('ecolog', 0.7229398488998413),\n",
       " ('environment', 0.720428466796875),\n",
       " ('green', 0.7161364555358887),\n",
       " ('aim', 0.7111292481422424),\n",
       " ('planet', 0.6923732757568359),\n",
       " ('climat', 0.6853830814361572)]"
      ]
     },
     "execution_count": 99,
     "metadata": {},
     "output_type": "execute_result"
    }
   ],
   "source": [
    "w2v_model.wv.most_similar(\"sustain\")"
   ]
  },
  {
   "cell_type": "code",
   "execution_count": 100,
   "metadata": {},
   "outputs": [],
   "source": [
    "#Tokenize\n",
    "tokenizer = Tokenizer()\n",
    "tokenizer.fit_on_texts(X)\n",
    "\n",
    "X = tokenizer.texts_to_sequences(X)"
   ]
  },
  {
   "cell_type": "code",
   "execution_count": 101,
   "metadata": {},
   "outputs": [
    {
     "data": {
      "text/plain": [
       "[744, 589, 105, 6, 2989, 517, 994, 30629, 4334, 15]"
      ]
     },
     "execution_count": 101,
     "metadata": {},
     "output_type": "execute_result"
    }
   ],
   "source": [
    "#ectors\n",
    "X[0][:10]"
   ]
  },
  {
   "cell_type": "code",
   "execution_count": 102,
   "metadata": {},
   "outputs": [
    {
     "data": {
      "image/png": "[encoded data removed]",
      "text/plain": [
       "<Figure size 432x288 with 1 Axes>"
      ]
     },
     "metadata": {
      "needs_background": "light"
     },
     "output_type": "display_data"
    }
   ],
   "source": [
    "plt.hist([len(x) for x in X], bins=100)\n",
    "plt.show()"
   ]
  },
  {
   "cell_type": "code",
   "execution_count": 103,
   "metadata": {},
   "outputs": [
    {
     "data": {
      "text/plain": [
       "2987"
      ]
     },
     "execution_count": 103,
     "metadata": {},
     "output_type": "execute_result"
    }
   ],
   "source": [
    "nos = np.array([len(x) for x in X])\n",
    "len(nos[nos  < 500])"
   ]
  },
  {
   "cell_type": "code",
   "execution_count": 104,
   "metadata": {},
   "outputs": [],
   "source": [
    "#keep all the text that has 500 words or less\n",
    "maxlen = 500 \n",
    "\n",
    "#Making all the text with a max lenght of 500\n",
    "X = pad_sequences(X, maxlen=maxlen)"
   ]
  },
  {
   "cell_type": "code",
   "execution_count": 105,
   "metadata": {},
   "outputs": [
    {
     "data": {
      "text/plain": [
       "500"
      ]
     },
     "execution_count": 105,
     "metadata": {},
     "output_type": "execute_result"
    }
   ],
   "source": [
    "\n",
    "len(X[1578])"
   ]
  },
  {
   "cell_type": "code",
   "execution_count": 106,
   "metadata": {},
   "outputs": [],
   "source": [
    "#unknown added to the dictionary\n",
    "vocab_size = len(tokenizer.word_index) + 1"
   ]
  },
  {
   "cell_type": "code",
   "execution_count": 107,
   "metadata": {},
   "outputs": [],
   "source": [
    "#Weight matrix from word2vec gensim model\n",
    "def get_weight_matrix(model, vocab):\n",
    "    vocab_size = len(vocab) + 1\n",
    "    weight_matrix = np.zeros((vocab_size, EMBEDDING_DIM))\n",
    "    for word, i in vocab.items():\n",
    "        weight_matrix[i] = model[word]\n",
    "    return weight_matrix\n"
   ]
  },
  {
   "cell_type": "code",
   "execution_count": 108,
   "metadata": {},
   "outputs": [
    {
     "name": "stderr",
     "output_type": "stream",
     "text": [
      "/Users/maxrojas/opt/anaconda3/lib/python3.7/site-packages/ipykernel_launcher.py:6: DeprecationWarning: Call to deprecated `__getitem__` (Method will be removed in 4.0.0, use self.wv.__getitem__() instead).\n",
      "  \n"
     ]
    }
   ],
   "source": [
    "#Getting embedding vectors\n",
    "embedding_vectors = get_weight_matrix(w2v_model, word_index)"
   ]
  },
  {
   "cell_type": "code",
   "execution_count": 109,
   "metadata": {},
   "outputs": [],
   "source": [
    "#Defining Neural Network\n",
    "model = Sequential()\n",
    "#Non-trainable embeddidng layer\n",
    "model.add(Embedding(vocab_size, output_dim=EMBEDDING_DIM, weights=[embedding_vectors], input_length=maxlen, trainable=False))\n",
    "#LSTM \n",
    "model.add(LSTM(units=128))\n",
    "model.add(Dense(1, activation='sigmoid'))\n",
    "model.compile(optimizer='adam', loss='binary_crossentropy', metrics=['acc'])\n"
   ]
  },
  {
   "cell_type": "code",
   "execution_count": 110,
   "metadata": {},
   "outputs": [
    {
     "name": "stdout",
     "output_type": "stream",
     "text": [
      "Model: \"sequential_1\"\n",
      "_________________________________________________________________\n",
      "Layer (type)                 Output Shape              Param #   \n",
      "=================================================================\n",
      "embedding_1 (Embedding)      (None, 500, 128)          8269952   \n",
      "_________________________________________________________________\n",
      "lstm_1 (LSTM)                (None, 128)               131584    \n",
      "_________________________________________________________________\n",
      "dense_1 (Dense)              (None, 1)                 129       \n",
      "=================================================================\n",
      "Total params: 8,401,665\n",
      "Trainable params: 131,713\n",
      "Non-trainable params: 8,269,952\n",
      "_________________________________________________________________\n"
     ]
    }
   ],
   "source": [
    "model.summary()"
   ]
  },
  {
   "cell_type": "code",
   "execution_count": 111,
   "metadata": {},
   "outputs": [
    {
     "data": {
      "text/plain": [
       "array([[    2,  1410,   160, ...,    12,   128,    32],\n",
       "       [    0,     0,     0, ...,    99,    21,    40],\n",
       "       [    0,     0,     0, ...,  1339,    21,    40],\n",
       "       ...,\n",
       "       [    0,     0,     0, ...,     5,   482,     5],\n",
       "       [    0,     0,     0, ...,    95,    63, 11654],\n",
       "       [    0,     0,     0, ..., 11468,  1324,  3056]], dtype=int32)"
      ]
     },
     "execution_count": 111,
     "metadata": {},
     "output_type": "execute_result"
    }
   ],
   "source": [
    "#Train test split\n",
    "\n",
    "X_train, X_test, y_train, y_test = train_test_split(X, y,test_size=0.15,random_state=1)\n",
    "X_train"
   ]
  },
  {
   "cell_type": "code",
   "execution_count": 112,
   "metadata": {},
   "outputs": [
    {
     "name": "stdout",
     "output_type": "stream",
     "text": [
      "Train on 3535 samples, validate on 624 samples\n",
      "Epoch 1/10\n",
      "3535/3535 [==============================] - 107s 30ms/sample - loss: 0.6940 - acc: 0.5533 - val_loss: 0.6644 - val_acc: 0.5962\n",
      "Epoch 2/10\n",
      "3535/3535 [==============================] - 100s 28ms/sample - loss: 0.6269 - acc: 0.6421 - val_loss: 0.6257 - val_acc: 0.6715\n",
      "Epoch 3/10\n",
      "3535/3535 [==============================] - 101s 28ms/sample - loss: 0.6724 - acc: 0.6280 - val_loss: 0.7133 - val_acc: 0.4968\n",
      "Epoch 4/10\n",
      "3535/3535 [==============================] - 103s 29ms/sample - loss: 0.6861 - acc: 0.5465 - val_loss: 0.6844 - val_acc: 0.5192\n",
      "Epoch 5/10\n",
      "3535/3535 [==============================] - 111s 32ms/sample - loss: 0.6635 - acc: 0.6110 - val_loss: 0.6498 - val_acc: 0.5994\n",
      "Epoch 6/10\n",
      "3535/3535 [==============================] - 112s 32ms/sample - loss: 0.5768 - acc: 0.7431 - val_loss: 0.5049 - val_acc: 0.7853\n",
      "Epoch 7/10\n",
      "3535/3535 [==============================] - 108s 31ms/sample - loss: 0.4970 - acc: 0.7700 - val_loss: 0.4752 - val_acc: 0.8109\n",
      "Epoch 8/10\n",
      "3535/3535 [==============================] - 127s 36ms/sample - loss: 0.4458 - acc: 0.8127 - val_loss: 0.4463 - val_acc: 0.8141\n",
      "Epoch 9/10\n",
      "3535/3535 [==============================] - 153s 43ms/sample - loss: 0.4163 - acc: 0.8266 - val_loss: 0.4542 - val_acc: 0.8205\n",
      "Epoch 10/10\n",
      "3535/3535 [==============================] - 125s 35ms/sample - loss: 0.4006 - acc: 0.8311 - val_loss: 0.4336 - val_acc: 0.8109\n"
     ]
    },
    {
     "data": {
      "text/plain": [
       "<tensorflow.python.keras.callbacks.History at 0x7fcca4b29c90>"
      ]
     },
     "execution_count": 112,
     "metadata": {},
     "output_type": "execute_result"
    }
   ],
   "source": [
    "model.fit(X_train, y_train, validation_split=0.15, epochs=10, batch_size = 100)"
   ]
  },
  {
   "cell_type": "code",
   "execution_count": 48,
   "metadata": {},
   "outputs": [],
   "source": [
    "#model.save('word2vec')"
   ]
  },
  {
   "cell_type": "code",
   "execution_count": 45,
   "metadata": {},
   "outputs": [],
   "source": [
    "y_pred = (model.predict(X_test) > 0.5)"
   ]
  },
  {
   "cell_type": "code",
   "execution_count": 46,
   "metadata": {},
   "outputs": [
    {
     "data": {
      "text/plain": [
       "0.854421768707483"
      ]
     },
     "execution_count": 46,
     "metadata": {},
     "output_type": "execute_result"
    }
   ],
   "source": [
    "accuracy_score(y_test, y_pred)"
   ]
  },
  {
   "cell_type": "code",
   "execution_count": 47,
   "metadata": {},
   "outputs": [
    {
     "name": "stdout",
     "output_type": "stream",
     "text": [
      "              precision    recall  f1-score   support\n",
      "\n",
      "           0       0.84      0.87      0.86       365\n",
      "           1       0.87      0.84      0.85       370\n",
      "\n",
      "    accuracy                           0.85       735\n",
      "   macro avg       0.85      0.85      0.85       735\n",
      "weighted avg       0.85      0.85      0.85       735\n",
      "\n"
     ]
    }
   ],
   "source": [
    "print(classification_report(y_test, y_pred))"
   ]
  },
  {
   "cell_type": "code",
   "execution_count": null,
   "metadata": {},
   "outputs": [],
   "source": []
  },
  {
   "cell_type": "code",
   "execution_count": null,
   "metadata": {},
   "outputs": [],
   "source": []
  },
  {
   "cell_type": "code",
   "execution_count": null,
   "metadata": {},
   "outputs": [],
   "source": []
  },
  {
   "cell_type": "code",
   "execution_count": null,
   "metadata": {},
   "outputs": [],
   "source": []
  }
 ],
 "metadata": {
  "kernelspec": {
   "display_name": "Python 3",
   "language": "python",
   "name": "python3"
  },
  "language_info": {
   "codemirror_mode": {
    "name": "ipython",
    "version": 3
   },
   "file_extension": ".py",
   "mimetype": "text/x-python",
   "name": "python",
   "nbconvert_exporter": "python",
   "pygments_lexer": "ipython3",
   "version": "3.7.4"
  }
 },
 "nbformat": 4,
 "nbformat_minor": 2
}
